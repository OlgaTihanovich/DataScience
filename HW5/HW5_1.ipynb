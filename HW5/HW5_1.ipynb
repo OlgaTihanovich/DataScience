{
  "nbformat": 4,
  "nbformat_minor": 0,
  "metadata": {
    "colab": {
      "provenance": [],
      "authorship_tag": "ABX9TyMu/3wrAknetNUJVdQGzkh0",
      "include_colab_link": true
    },
    "kernelspec": {
      "name": "python3",
      "display_name": "Python 3"
    },
    "language_info": {
      "name": "python"
    }
  },
  "cells": [
    {
      "cell_type": "markdown",
      "metadata": {
        "id": "view-in-github",
        "colab_type": "text"
      },
      "source": [
        "<a href=\"https://colab.research.google.com/github/OlgaTihanovich/DataScience/blob/main/HW5_1.ipynb\" target=\"_parent\"><img src=\"https://colab.research.google.com/assets/colab-badge.svg\" alt=\"Open In Colab\"/></a>"
      ]
    },
    {
      "cell_type": "code",
      "execution_count": 1,
      "metadata": {
        "colab": {
          "base_uri": "https://localhost:8080/"
        },
        "id": "wDadfqpZbpzZ",
        "outputId": "d2944213-6513-4456-b67c-0fff732fa816"
      },
      "outputs": [
        {
          "output_type": "stream",
          "name": "stdout",
          "text": [
            "Accuracy: 0.95\n",
            "Classification Report:\n",
            "              precision    recall  f1-score   support\n",
            "\n",
            "           0       0.96      0.94      0.95        53\n",
            "           1       0.94      0.96      0.95        47\n",
            "\n",
            "    accuracy                           0.95       100\n",
            "   macro avg       0.95      0.95      0.95       100\n",
            "weighted avg       0.95      0.95      0.95       100\n",
            "\n",
            "Confusion Matrix:\n",
            "[[50  3]\n",
            " [ 2 45]]\n"
          ]
        }
      ],
      "source": [
        "# AdaBoost\n",
        "import numpy as np\n",
        "from sklearn.datasets import make_classification\n",
        "from sklearn.model_selection import train_test_split\n",
        "from sklearn.ensemble import AdaBoostClassifier\n",
        "from sklearn.tree import DecisionTreeClassifier\n",
        "from sklearn.metrics import classification_report, accuracy_score, confusion_matrix\n",
        "\n",
        "# Генерируем искусственные данные\n",
        "X, y = make_classification(n_samples=500, n_features=5, n_informative=2, n_redundant=2, random_state=42)\n",
        "# n_samples - Количество образцов (наблюдений)\n",
        "# n_features - Общее количество признаков (и информативных, и неинформативных, и дублирующихся)\n",
        "# n_informative - Количество информативных признаков\n",
        "# n_redundant - Количество избыточных признаков, которые содержат схожую с информативными информацию\n",
        "\n",
        "# Разделение данных на обучающую и тестовую выборки\n",
        "X_train, X_test, y_train, y_test = train_test_split(\n",
        "    X, y, test_size=0.2, random_state=42\n",
        ")\n",
        "\n",
        "# Создание и обучение классификатора AdaBoost\n",
        "base_estimator = DecisionTreeClassifier(max_depth=2)\n",
        "ada_classifier = AdaBoostClassifier(\n",
        "    estimator=base_estimator,\n",
        "    n_estimators=100,\n",
        "    learning_rate=0.15,\n",
        "    random_state=42\n",
        ")\n",
        "ada_classifier.fit(X_train, y_train)\n",
        "\n",
        "# Прогнозирование классов на тестовом наборе данных\n",
        "y_pred = ada_classifier.predict(X_test)\n",
        "\n",
        "# Оценка модели\n",
        "accuracy = accuracy_score(y_test, y_pred)\n",
        "report = classification_report(y_test, y_pred)\n",
        "\n",
        "print(f'Accuracy: {accuracy:.2f}')\n",
        "print('Classification Report:')\n",
        "print(report)\n",
        "print(\"Confusion Matrix:\")\n",
        "print(confusion_matrix(y_test, y_pred))"
      ]
    },
    {
      "cell_type": "code",
      "source": [
        "# ExtraTreesClassifier\n",
        "import pandas as pd\n",
        "import numpy as np\n",
        "from sklearn.datasets import make_classification\n",
        "from sklearn.ensemble import ExtraTreesClassifier\n",
        "from sklearn.model_selection import train_test_split, GridSearchCV, cross_val_score\n",
        "from sklearn.metrics import classification_report, accuracy_score, confusion_matrix\n",
        "import matplotlib.pyplot as plt\n",
        "\n",
        "# Генерируем искусственные данные\n",
        "X, y = make_classification(n_samples=500, n_features=5, n_informative=2, n_redundant=2, random_state=42)\n",
        "\n",
        "# Разделение данных на обучающую и тестовую выборки\n",
        "X_train, X_test, y_train, y_test = train_test_split(\n",
        "    X, y, test_size=0.2, random_state=42, stratify=y\n",
        ")\n",
        "\n",
        "# Создание и обучение классификатора Extra Trees с использованием GridSearchCV для подбора гиперпараметров\n",
        "param_grid = {\n",
        "    'n_estimators': [100, 200, 300],\n",
        "    'max_features': ['sqrt', 'log2', None],\n",
        "    'max_depth': [None, 10, 20, 30],\n",
        "    'min_samples_split': [2, 5, 10]\n",
        "}\n",
        "\n",
        "# Инициализация ExtraTreesClassifier\n",
        "clf = ExtraTreesClassifier(random_state=42)\n",
        "\n",
        "# Настройка GridSearchCV\n",
        "grid_search = GridSearchCV(\n",
        "    estimator=clf,\n",
        "    param_grid=param_grid,\n",
        "    cv=5,\n",
        "    scoring='accuracy',\n",
        "    n_jobs=-1,\n",
        "    verbose=1\n",
        ")\n",
        "\n",
        "# Обучение модели с подбором гиперпараметров\n",
        "grid_search.fit(X_train, y_train)\n",
        "\n",
        "# Вывод лучших параметров и точности\n",
        "print(\"Лучшие параметры:\", grid_search.best_params_)\n",
        "print(\"Лучшая точность (CV):\", grid_search.best_score_)\n",
        "\n",
        "# Использование лучшей модели для прогнозирования\n",
        "best_clf = grid_search.best_estimator_\n",
        "y_pred = best_clf.predict(X_test)\n",
        "\n",
        "# Оценка модели\n",
        "accuracy = accuracy_score(y_test, y_pred)\n",
        "report = classification_report(y_test, y_pred)\n",
        "\n",
        "print(f'Accuracy на тестовых данных: {accuracy:.2f}')\n",
        "print('Classification Report:')\n",
        "print(report)\n",
        "print(\"Confusion Matrix:\")\n",
        "print(confusion_matrix(y_test, y_pred))\n",
        "\n",
        "# Точность на обучающей выборке для проверки переобучения\n",
        "y_train_pred = best_clf.predict(X_train)\n",
        "train_accuracy = accuracy_score(y_train, y_train_pred)\n",
        "print(f'Training Accuracy: {train_accuracy:.2f}')\n",
        "\n",
        "# Кросс-валидация для дополнительной оценки модели\n",
        "cv_scores = cross_val_score(best_clf, X, y, cv=5, scoring='accuracy')\n",
        "print(f'Кросс-валидационные оценки: {cv_scores}')\n",
        "print(f'Средняя кросс-валидационная точность: {cv_scores.mean():.2f} ± {cv_scores.std():.2f}')"
      ],
      "metadata": {
        "colab": {
          "base_uri": "https://localhost:8080/"
        },
        "id": "c-YdZPu7fALz",
        "outputId": "de827eda-087f-47f8-c4e6-00da864dda5a"
      },
      "execution_count": 3,
      "outputs": [
        {
          "output_type": "stream",
          "name": "stdout",
          "text": [
            "Fitting 5 folds for each of 108 candidates, totalling 540 fits\n",
            "Лучшие параметры: {'max_depth': None, 'max_features': 'sqrt', 'min_samples_split': 5, 'n_estimators': 100}\n",
            "Лучшая точность (CV): 0.9574999999999999\n",
            "Accuracy на тестовых данных: 0.95\n",
            "Classification Report:\n",
            "              precision    recall  f1-score   support\n",
            "\n",
            "           0       0.96      0.94      0.95        50\n",
            "           1       0.94      0.96      0.95        50\n",
            "\n",
            "    accuracy                           0.95       100\n",
            "   macro avg       0.95      0.95      0.95       100\n",
            "weighted avg       0.95      0.95      0.95       100\n",
            "\n",
            "Confusion Matrix:\n",
            "[[47  3]\n",
            " [ 2 48]]\n",
            "Training Accuracy: 0.99\n",
            "Кросс-валидационные оценки: [0.96 0.96 0.95 0.95 0.98]\n",
            "Средняя кросс-валидационная точность: 0.96 ± 0.01\n"
          ]
        }
      ]
    }
  ]
}
