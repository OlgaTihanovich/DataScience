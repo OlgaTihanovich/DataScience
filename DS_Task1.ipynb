{
  "nbformat": 4,
  "nbformat_minor": 0,
  "metadata": {
    "colab": {
      "provenance": [],
      "toc_visible": true,
      "authorship_tag": "ABX9TyPz89SyzBLnRr1LHVlU+6GP",
      "include_colab_link": true
    },
    "kernelspec": {
      "name": "python3",
      "display_name": "Python 3"
    },
    "language_info": {
      "name": "python"
    }
  },
  "cells": [
    {
      "cell_type": "markdown",
      "metadata": {
        "id": "view-in-github",
        "colab_type": "text"
      },
      "source": [
        "<a href=\"https://colab.research.google.com/github/OlgaTihanovich/DataScience/blob/main/DS_Task1.ipynb\" target=\"_parent\"><img src=\"https://colab.research.google.com/assets/colab-badge.svg\" alt=\"Open In Colab\"/></a>"
      ]
    },
    {
      "cell_type": "code",
      "execution_count": 7,
      "metadata": {
        "id": "e_M3C0f30W2H"
      },
      "outputs": [],
      "source": [
        "# создание кортежа\n",
        "my_tuple=tuple([5,8,22,9.8])"
      ]
    },
    {
      "cell_type": "code",
      "source": [
        "# выведение предпоследнего элемента кортежа\n",
        "print(my_tuple[-2])"
      ],
      "metadata": {
        "colab": {
          "base_uri": "https://localhost:8080/"
        },
        "id": "r_75n0dP0_sS",
        "outputId": "f84793db-a59d-423a-a0f9-1c1d27fe63f4"
      },
      "execution_count": 8,
      "outputs": [
        {
          "output_type": "stream",
          "name": "stdout",
          "text": [
            "22\n"
          ]
        }
      ]
    },
    {
      "cell_type": "code",
      "source": [
        "# Сложность алгоритма оценивается как O(1), так как заключается в получении 1 элемента"
      ],
      "metadata": {
        "id": "3QMaPS3_3kWo"
      },
      "execution_count": 9,
      "outputs": []
    }
  ]
}